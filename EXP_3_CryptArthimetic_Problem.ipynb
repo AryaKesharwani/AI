{
 "cells": [
  {
   "cell_type": "code",
   "execution_count": null,
   "metadata": {},
   "outputs": [],
   "source": [
    "from itertools import combinations, permutations\n",
    "def replacements():\n",
    "    for comb in combinations(range(10), 8):\n",
    "        for perm in permutations(comb):\n",
    "            if perm[0] * perm[1] != 0:\n",
    "                yield dict(zip('BASELGMS', perm))\n",
    "a, b, c = 'BASE', 'BALL', 'GAMES'\n",
    "for replacement in replacements():\n",
    "    f = lambda x: sum(replacement[e] * 10**i for i, e in enumerate(x[::-1]))\n",
    "    if f(a) + f(b) == f(c):\n",
    "        print('{} + {} = {}'.format(f(a), f(b), f(c)))"
   ]
  }
 ],
 "metadata": {
  "language_info": {
   "name": "python"
  }
 },
 "nbformat": 4,
 "nbformat_minor": 2
}
