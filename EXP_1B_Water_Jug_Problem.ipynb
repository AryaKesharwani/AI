{
 "cells": [
  {
   "cell_type": "code",
   "execution_count": null,
   "metadata": {},
   "outputs": [],
   "source": [
    "def water_jug_problem(jug1_cap, jug2_cap, target_amount):\n",
    "    # Initialize the jugs and the possible actions\n",
    "    j1 = 0\n",
    "    j2 = 0\n",
    "    actions = [(\"fill\", 1), (\"fill\", 2), (\"empty\", 1), (\"empty\", 2), (\"pour\", 1, 2), (\"pour\", 2, 1)]\n",
    "    # Create an empty set to store visited states\n",
    "    visited = set()\n",
    "    # Create a queue to store states to visit\n",
    "    queue = [(j1, j2, [])]\n",
    "    while queue:\n",
    "        # Dequeue the front state from the queue\n",
    "        j1, j2, seq = queue.pop(0)\n",
    "        # If this state has not been visited before, mark it as visited\n",
    "        if (j1, j2) not in visited:\n",
    "            visited.add((j1, j2))\n",
    "            # If this state matches the target amount, return the sequence of actions taken to get to this state\n",
    "            if j1 == target_amount:\n",
    "                return seq\n",
    "            # Generate all possible next states from this state\n",
    "            for action in actions:\n",
    "                if action[0] == \"fill\":\n",
    "                    if action[1] == 1:\n",
    "                        next_state = (jug1_cap, j2)\n",
    "                    else:\n",
    "                        next_state = (j1, jug2_cap)\n",
    "                elif action[0] == \"empty\":\n",
    "                    if action[1] == 1:\n",
    "                        next_state = (0, j2)\n",
    "                    else:\n",
    "                        next_state = (j1, 0)\n",
    "                else:\n",
    "                    if action[1] == 1:\n",
    "                        amount = min(j1, jug2_cap - j2)\n",
    "                        next_state = (j1 - amount, j2 + amount)\n",
    "                    else:\n",
    "                        amount = min(j2, jug1_cap - j1)\n",
    "                        next_state = (j1 + amount, j2 - amount)\n",
    "                # Add the next state to the queue if it has not been visited before\n",
    "                if next_state not in visited:\n",
    "                    next_seq = seq + [action]\n",
    "                    queue.append((next_state[0], next_state[1], next_seq))\n",
    "    # If the queue becomes empty without finding a solution, return None\n",
    "    return None\n",
    "\n",
    "result = water_jug_problem(5, 3, 1)\n",
    "print(result)\n"
   ]
  }
 ],
 "metadata": {
  "language_info": {
   "name": "python"
  }
 },
 "nbformat": 4,
 "nbformat_minor": 2
}
