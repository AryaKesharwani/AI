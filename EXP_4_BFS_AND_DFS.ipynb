{
 "cells": [
  {
   "cell_type": "code",
   "execution_count": null,
   "metadata": {},
   "outputs": [],
   "source": [
    "from collections import deque\n",
    "# Example usage:\n",
    "graph = {\n",
    "    'A': ['B', 'C'],\n",
    "    'B': ['A', 'D', 'E'],\n",
    "    'C': ['A', 'F', 'G'],\n",
    "    'D': ['B'],\n",
    "    'E': ['B', 'H'],\n",
    "    'F': ['C'],\n",
    "    'G': ['C'],\n",
    "    'H': ['E']\n",
    "}\n",
    "\n",
    "def bfs(graph, start):\n",
    "    visited = set()\n",
    "    queue = deque([start])\n",
    "    while queue:\n",
    "        node = queue.popleft()\n",
    "        if node not in visited:\n",
    "            print(node, end=' ')\n",
    "            visited.add(node)\n",
    "            queue.extend(neighbor for neighbor in graph[node] if neighbor not in visited)\n",
    "\n",
    "def dfs(graph, node, visited):\n",
    "    if node not in visited:\n",
    "        print(node, end=' ')\n",
    "        visited.add(node)\n",
    "        for neighbor in graph[node]:\n",
    "            dfs(graph, neighbor, visited)\n",
    "start_node = 'A'\n",
    "visited_nodes = set()\n",
    "print(\"DFS : \")\n",
    "dfs(graph, start_node, visited_nodes)\n",
    "print('\\n')\n",
    "print(\"BFS : \")\n",
    "start_node = 'A'\n",
    "bfs(graph, start_node)"
   ]
  }
 ],
 "metadata": {
  "language_info": {
   "name": "python"
  }
 },
 "nbformat": 4,
 "nbformat_minor": 2
}
