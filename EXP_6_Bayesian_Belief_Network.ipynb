{
 "cells": [
  {
   "cell_type": "code",
   "execution_count": null,
   "metadata": {},
   "outputs": [],
   "source": [
    "import random\n",
    "\n",
    "def monty_hall_simulation(num_trials):\n",
    "    switch_wins = 0\n",
    "    stay_wins = 0\n",
    "\n",
    "    for _ in range(num_trials):\n",
    "        # print(\"\")\n",
    "        # print(f\"{_} iteration \")\n",
    "        doors = ['A', 'B', 'C']\n",
    "        bike_location = random.choice(doors)\n",
    "        # print(\"Bike location : \",bike_location)\n",
    "        initial_choice = random.choice(doors)\n",
    "        # print(\"player choice: \",initial_choice)\n",
    "        doors.remove(initial_choice)\n",
    "\n",
    "        if bike_location in doors:\n",
    "            doors.remove(bike_location)\n",
    "        monty_choice = random.choice(doors)\n",
    "\n",
    "        # print(\"Monty's choice : \", monty_choice)\n",
    "        doors = [d for d in ['A', 'B', 'C'] if d != monty_choice and d != initial_choice]\n",
    "        final_choice = doors[0]\n",
    "\n",
    "        stay_wins += (initial_choice == bike_location)\n",
    "        switch_wins += (final_choice == bike_location)\n",
    "\n",
    "    stay_win_prob = stay_wins / num_trials\n",
    "    switch_win_prob = switch_wins / num_trials\n",
    "\n",
    "    print(f\"Probability of winning by staying: {stay_win_prob:.2f}\")\n",
    "    print(f\"Probability of winning by switching: {switch_win_prob:.2f}\")\n",
    "\n",
    "# Number of trials\n",
    "num_trials = 10\n",
    "\n",
    "# Run simulation\n",
    "monty_hall_simulation(num_trials)"
   ]
  }
 ],
 "metadata": {
  "language_info": {
   "name": "python"
  }
 },
 "nbformat": 4,
 "nbformat_minor": 2
}
