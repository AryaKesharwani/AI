{
 "cells": [
  {
   "cell_type": "code",
   "execution_count": null,
   "metadata": {},
   "outputs": [],
   "source": [
    "total_bananas = int(input(\"No. Of bananas at start : \"))\n",
    "distance = int(input(\"Distance to be covered  : \"))\n",
    "load_capacity = int(input(\"Maximum No. of bananas camel can carry at a time : \"))\n",
    "\n",
    "bananas_lost = 0\n",
    "start = total_bananas\n",
    "for i in range(distance) :\n",
    "    while start > 0 :\n",
    "        start = start-load_capacity\n",
    "        if start == 1 :\n",
    "            bananas_lost = bananas_lost-1\n",
    "        bananas_lost = bananas_lost+2\n",
    "    bananas_lost = bananas_lost-1\n",
    "    start = total_bananas - bananas_lost\n",
    "    if start == 0:\n",
    "        break\n",
    "print(\"Total bananas delivered : \", start )"
   ]
  }
 ],
 "metadata": {
  "language_info": {
   "name": "python"
  }
 },
 "nbformat": 4,
 "nbformat_minor": 2
}
