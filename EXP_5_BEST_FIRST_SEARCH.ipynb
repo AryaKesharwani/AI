{
 "cells": [
  {
   "cell_type": "code",
   "execution_count": null,
   "metadata": {},
   "outputs": [],
   "source": [
    "from queue import PriorityQueue\n",
    "\n",
    "v = 14\n",
    "\n",
    "graph = [[] for i in range(v)]\n",
    "\n",
    "def best_first_search(source,destination,graph):\n",
    "  pq = PriorityQueue()\n",
    "  visited = [False] * 14\n",
    "  visited[source] = True\n",
    "\n",
    "  pq.put((0,source))\n",
    "\n",
    "  while pq:\n",
    "    node = pq.get()[1]\n",
    "    print(node)\n",
    "    if node==destination:\n",
    "      break\n",
    "\n",
    "    for v,c in graph[node]:\n",
    "      if visited[v] ==False:\n",
    "        visited[v] = True\n",
    "        pq.put((c,v))\n",
    "\n",
    "def addedge(x,y,cost):\n",
    "  graph[x].append((y,cost))\n",
    "  graph[y].append((x,cost))\n",
    "\n",
    "addedge(0, 1, 3)\n",
    "addedge(0, 2, 6)\n",
    "addedge(0, 3, 5)\n",
    "addedge(1, 4, 9)\n",
    "addedge(1, 5, 8)\n",
    "addedge(2, 6, 12)\n",
    "addedge(2, 7, 14)\n",
    "addedge(3, 8, 7)\n",
    "addedge(8, 9, 5)\n",
    "addedge(8, 10, 6)\n",
    "addedge(9, 11, 1)\n",
    "addedge(9, 12, 10)\n",
    "addedge(9, 13, 2)\n",
    "\n",
    "source = 0\n",
    "destination = 9\n",
    "\n",
    "best_first_search(source,destination,graph)"
   ]
  }
 ],
 "metadata": {
  "language_info": {
   "name": "python"
  }
 },
 "nbformat": 4,
 "nbformat_minor": 2
}
